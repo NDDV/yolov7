{
 "cells": [
  {
   "cell_type": "code",
   "execution_count": null,
   "id": "4817b4d8",
   "metadata": {},
   "outputs": [
    {
     "name": "stdout",
     "output_type": "stream",
     "text": [
      " * Serving Flask app '__main__'\n",
      " * Debug mode: off\n"
     ]
    },
    {
     "name": "stderr",
     "output_type": "stream",
     "text": [
      "WARNING: This is a development server. Do not use it in a production deployment. Use a production WSGI server instead.\n",
      " * Running on all addresses (0.0.0.0)\n",
      " * Running on http://127.0.0.1:5000\n",
      " * Running on http://192.168.0.119:5000\n",
      "Press CTRL+C to quit\n",
      "192.168.0.119 - - [22/Nov/2022 21:10:32] \"GET / HTTP/1.1\" 200 -\n",
      "192.168.0.119 - - [22/Nov/2022 21:10:33] \"GET /favicon.ico HTTP/1.1\" 404 -\n",
      "YOLOR  v0.1-104-g941b94c torch 1.13.0+cpu CPU\n",
      "\n"
     ]
    },
    {
     "name": "stdout",
     "output_type": "stream",
     "text": [
      "Save =  static\\0.jpg\n",
      "Fusing layers... \n",
      "RepConv.fuse_repvgg_block\n",
      "RepConv.fuse_repvgg_block\n",
      "RepConv.fuse_repvgg_block\n",
      "IDetect.fuse\n"
     ]
    },
    {
     "name": "stderr",
     "output_type": "stream",
     "text": [
      "C:\\Users\\nguye\\AppData\\Local\\Programs\\Python\\Python310\\lib\\site-packages\\torch\\functional.py:504: UserWarning: torch.meshgrid: in an upcoming release, it will be required to pass the indexing argument. (Triggered internally at ..\\aten\\src\\ATen\\native\\TensorShape.cpp:3191.)\n",
      "  return _VF.meshgrid(tensors, **kwargs)  # type: ignore[attr-defined]\n",
      "Model Summary: 314 layers, 36519530 parameters, 6194944 gradients, 103.3 GFLOPS\n",
      "192.168.0.119 - - [22/Nov/2022 21:10:45] \"POST / HTTP/1.1\" 200 -\n",
      "192.168.0.119 - - [22/Nov/2022 21:10:45] \"POST / HTTP/1.1\" 200 -\n",
      "192.168.0.119 - - [22/Nov/2022 21:10:45] \"GET /static/0.jpg?0.539256451592332 HTTP/1.1\" 200 -\n",
      "192.168.0.119 - - [22/Nov/2022 21:10:45] \"GET /static/0.jpg?0.539256451592332 HTTP/1.1\" 200 -\n",
      "YOLOR  v0.1-104-g941b94c torch 1.13.0+cpu CPU\n",
      "\n"
     ]
    },
    {
     "name": "stdout",
     "output_type": "stream",
     "text": [
      "Save =  static\\10005.jpg\n",
      "Fusing layers... \n",
      "RepConv.fuse_repvgg_block\n",
      "RepConv.fuse_repvgg_block\n",
      "RepConv.fuse_repvgg_block\n",
      "IDetect.fuse\n"
     ]
    },
    {
     "name": "stderr",
     "output_type": "stream",
     "text": [
      "Model Summary: 314 layers, 36519530 parameters, 6194944 gradients, 103.3 GFLOPS\n",
      "192.168.0.119 - - [22/Nov/2022 21:16:05] \"POST / HTTP/1.1\" 200 -\n",
      "192.168.0.119 - - [22/Nov/2022 21:16:05] \"POST / HTTP/1.1\" 200 -\n",
      "192.168.0.119 - - [22/Nov/2022 21:16:05] \"GET /static/10005.jpg?0.9739236316298312 HTTP/1.1\" 200 -\n",
      "192.168.0.119 - - [22/Nov/2022 21:16:05] \"GET /static/10005.jpg?0.9739236316298312 HTTP/1.1\" 200 -\n"
     ]
    }
   ],
   "source": [
    "import pickle\n",
    "from flask import Flask, render_template, request\n",
    "import os\n",
    "from random import random\n",
    "from my_yolov7 import detect\n",
    "import cv2\n",
    "\n",
    "# Khởi tạo Flask\n",
    "app = Flask(__name__)\n",
    "app.config['UPLOAD_FOLDER'] = \"static\"\n",
    "\n",
    "# Hàm xử lý request\n",
    "@app.route(\"/\", methods=['GET', 'POST'])\n",
    "def home_page():\n",
    "    # Nếu là POST (gửi file)\n",
    "    if request.method == \"POST\":\n",
    "#          try:\n",
    "            # Lấy file gửi lên\n",
    "            image = request.files['file']\n",
    "            if image:\n",
    "                # Lưu file\n",
    "                path_to_save = os.path.join(app.config['UPLOAD_FOLDER'], image.filename)\n",
    "                print(\"Save = \", path_to_save)\n",
    "                image.save(path_to_save)\n",
    "\n",
    "                # Convert image to dest size tensor\n",
    "                frame = path_to_save\n",
    "\n",
    "                frame = detect(frame,\"weights/last.pt\",\"yolov7/data/mydataset.yaml\")\n",
    "\n",
    "                cv2.imwrite(path_to_save, frame)\n",
    "\n",
    "                # Trả về kết quả\n",
    "                return render_template(\"index.html\", user_image = image.filename , rand = str(random()),\n",
    "                                           msg=\"Tải file lên thành công\")\n",
    "            else:\n",
    "                # Nếu không có file thì yêu cầu tải file\n",
    "                return render_template('index.html', msg='Hãy chọn file để tải lên')\n",
    "\n",
    "#          except Exception as ex:\n",
    "#             # Nếu lỗi thì thông báo\n",
    "#             print(ex)\n",
    "#             return render_template('index.html', msg='Không nhận diện được vật thể')\n",
    "\n",
    "    else:\n",
    "        # Nếu là GET thì hiển thị giao diện upload\n",
    "        return render_template('index.html')\n",
    "\n",
    "\n",
    "if __name__ == '__main__':\n",
    "    app.run(host='0.0.0.0', debug=False)"
   ]
  }
 ],
 "metadata": {
  "kernelspec": {
   "display_name": "Python 3 (ipykernel)",
   "language": "python",
   "name": "python3"
  },
  "language_info": {
   "codemirror_mode": {
    "name": "ipython",
    "version": 3
   },
   "file_extension": ".py",
   "mimetype": "text/x-python",
   "name": "python",
   "nbconvert_exporter": "python",
   "pygments_lexer": "ipython3",
   "version": "3.10.5"
  }
 },
 "nbformat": 4,
 "nbformat_minor": 5
}
